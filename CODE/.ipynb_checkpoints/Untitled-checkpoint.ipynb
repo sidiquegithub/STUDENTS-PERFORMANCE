{
 "cells": [
  {
   "cell_type": "code",
   "execution_count": 1,
   "id": "d774eff9",
   "metadata": {},
   "outputs": [],
   "source": [
    "import numpy as np\n",
    "import pandas as pd\n",
    "import seaborn as sns\n",
    "import matplotlib.pyplot as plt"
   ]
  },
  {
   "cell_type": "code",
   "execution_count": 3,
   "id": "f2c5e2d5",
   "metadata": {},
   "outputs": [],
   "source": [
    "path = r\"C:\\Users\\sidiq\\OneDrive\\Desktop\\STUDENTS PERFORMANCE\\STUDENTS-PERFORMANCE\\DATA\\archive (13)\\Student_performance_data _.csv\""
   ]
  },
  {
   "cell_type": "code",
   "execution_count": null,
   "id": "4aa2f51c",
   "metadata": {},
   "outputs": [],
   "source": [
    "data = pd.read_"
   ]
  }
 ],
 "metadata": {
  "kernelspec": {
   "display_name": "Python 3 (ipykernel)",
   "language": "python",
   "name": "python3"
  },
  "language_info": {
   "codemirror_mode": {
    "name": "ipython",
    "version": 3
   },
   "file_extension": ".py",
   "mimetype": "text/x-python",
   "name": "python",
   "nbconvert_exporter": "python",
   "pygments_lexer": "ipython3",
   "version": "3.7.15"
  }
 },
 "nbformat": 4,
 "nbformat_minor": 5
}
